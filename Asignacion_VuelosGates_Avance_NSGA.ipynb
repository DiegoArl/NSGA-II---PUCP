{
  "cells": [
    {
      "cell_type": "markdown",
      "metadata": {
        "id": "2VP6d4IEg-qk"
      },
      "source": [
        "# Optimizacion Industrial con Computacion Evolutiva\n",
        "<b> Diplomatura de Especialización en Desarrollo de Aplicaciones con Inteligencia Artificial</b>\n",
        "\n",
        "Dr. Edwin Villanueva (ervillanueva@pucp.edu.pe)"
      ]
    },
    {
      "cell_type": "markdown",
      "metadata": {
        "id": "s4LxYBghg-qy"
      },
      "source": [
        "## Asignación de vuelos a gates en aeropuerto\n",
        "\n",
        "Esta  notebook implementa un algoritmo genético monoobjetivo para la resolución de la asignación de vuelos a gates. Los operadores de cruzamiento y mutación NO aseguran que los individuos representen vuelos diferentes y gates diferentes.\n",
        "\n",
        "#### Representacion de Individuo:\n",
        "\n",
        "Un objeto Individual representaa una determinada asignacion de un subconjunto de vuelos (almacenado en <b>list_of_flights</b>) a un conjunto de gates (almacenado en <b>chromosome</b>). La lista de gates disponibles que se pueden asignar a los vuelos se almacena en la variable <b>allele_pool</b>  del individuo. Ver el siguiente grafico ilustrativo:\n",
        "\n",
        "<img src=\"EjemploIndividuoAvion.jpg\">\n",
        "\n"
      ]
    },
    {
      "cell_type": "code",
      "execution_count": 3,
      "metadata": {
        "id": "3BiTFdyNhskY"
      },
      "outputs": [],
      "source": [
        "import sys\n",
        "import time\n",
        "import numpy as np\n",
        "import random\n",
        "from random import seed, randint, sample, uniform, randrange\n",
        "from copy import deepcopy\n",
        "import matplotlib.pyplot as plt"
      ]
    },
    {
      "cell_type": "markdown",
      "metadata": {
        "id": "IRVDEMS3g-q1"
      },
      "source": [
        "### Clase <b>Individual</b>\n",
        "\n",
        "Esta es una clase para definir a un individuo de la población. Cada individuo posee un cromosoma, los vuelos a asignar, todos los posibles alelos y su respectivo fitness. Además, los métodos de esta clase permiten realizar el cruzamiento (crossover) y la mutación (mutation) sobre el cromosoma del individuo."
      ]
    },
    {
      "cell_type": "code",
      "execution_count": 4,
      "metadata": {
        "id": "wD-qU6LnGM8_"
      },
      "outputs": [],
      "source": [
        "# Clase que implementa el individuo y sus operadores\n",
        "class Individual(object):\n",
        "\n",
        "    # El constructor recibe la lista de vuelos que representa el individuo y los gates asignados, asi como el pool de flights y gates\n",
        "    def __init__(self, flights, gates, flights_pool, gates_pool):\n",
        "        self.flights = flights[:]\n",
        "        self.gates = gates[:]\n",
        "        self.flights_pool = flights_pool\n",
        "        self.gates_pool = gates_pool\n",
        "        self.fitness = -1  # -1 indica que el individuo no ha sido evaluado\n",
        "\n",
        "    def crossover_onepoint(self, other):\n",
        "        \"Retorna dos nuevos individuos del cruzamiento de un punto entre individuos self y other \"\n",
        "        c = randrange(len(self.gates))  # escoge aleatoriamento una posicion en la lista gates\n",
        "\n",
        "        gates_ind1 = self.gates[:c] + other.gates[c:]\n",
        "        gates_ind2 = other.gates[:c] + self.gates[c:]\n",
        "\n",
        "        while len(set(gates_ind1)) != len(gates_ind1):\n",
        "          c = randrange(len(self.gates))\n",
        "          gates_ind1 = self.gates[:c] + other.gates[c:]\n",
        "        while len(set(gates_ind2)) != len(gates_ind2):\n",
        "          c = randrange(len(self.gates))\n",
        "          gates_ind2 = other.gates[:c] + self.gates[c:]\n",
        "\n",
        "        ind1 = Individual(self.flights, self.gates[:c] + other.gates[c:], self.flights_pool, self.gates_pool)\n",
        "        ind2 = Individual(self.flights, other.gates[:c] + self.gates[c:], self.flights_pool, self.gates_pool)\n",
        "        return [ind1, ind2]\n",
        "\n",
        "    def crossover_uniform(self, other):\n",
        "        \"Retorna dos nuevos individuos del cruzamiento uniforme entre self y other \"\n",
        "        gates_ind1 = []\n",
        "        gates_ind2 = []\n",
        "\n",
        "        for i in range(len(self.gates)):\n",
        "            if uniform(0, 1) < 0.5:\n",
        "                gates_ind1.append(self.gates[i])\n",
        "                gates_ind2.append(other.gates[i])\n",
        "            else:\n",
        "                gates_ind1.append(other.gates[i])\n",
        "                gates_ind2.append(self.gates[i])\n",
        "        ind1 = Individual(self.flights, gates_ind1, self.flights_pool, self.gates_pool)\n",
        "        ind2 = Individual(self.flights, gates_ind2, self.flights_pool, self.gates_pool)\n",
        "        return [ind1, ind2]\n",
        "\n",
        "    def flight_gate_crossover(self, other):\n",
        "        while True:\n",
        "            gates_ind1 = []\n",
        "            gates_ind2 = []\n",
        "\n",
        "            for i in range(len(self.gates)):\n",
        "                if random.random() < 0.5:\n",
        "                    gates_ind1.append(self.gates[i])\n",
        "                    gates_ind2.append(other.gates[i])\n",
        "                else:\n",
        "                    gates_ind1.append(other.gates[i])\n",
        "                    gates_ind2.append(self.gates[i])\n",
        "\n",
        "            if len(set(gates_ind1)) == len(gates_ind1) and len(set(gates_ind2)) == len(gates_ind2):\n",
        "                break\n",
        "\n",
        "        ind1 = Individual(self.flights, gates_ind1, self.flights_pool, self.gates_pool)\n",
        "        ind2 = Individual(self.flights, gates_ind2, self.flights_pool, self.gates_pool)\n",
        "\n",
        "        return [ind1, ind2]\n",
        "\n",
        "    def mutate_position(self):\n",
        "        \"Cambia aleatoriamente el Gate asignado a un Flight.\"\n",
        "        mutated_gates = deepcopy(self.gates)\n",
        "        indexGate = randrange(0, len(self.gates)) # escoje el indice del elemento de gates que sera mutado\n",
        "        newGate = self.gates_pool[randrange(0, len(self.gates_pool))]\n",
        "\n",
        "        while newGate in mutated_gates:\n",
        "          newGate = self.gates_pool[randrange(0, len(self.gates_pool))]\n",
        "\n",
        "        mutated_gates[indexGate] = newGate\n",
        "        return Individual(self.flights, mutated_gates, self.flights_pool, self.gates_pool)\n",
        "\n",
        "    def mutate_flight_gate(self):\n",
        "        mutated_gates = deepcopy(self.gates)\n",
        "        index_gate = randrange(0, len(mutated_gates))\n",
        "        original_gate = mutated_gates[index_gate]\n",
        "        new_gate = random.choice(self.gates_pool)\n",
        "\n",
        "        while new_gate == original_gate or new_gate in mutated_gates:\n",
        "            new_gate = random.choice(self.gates_pool)\n",
        "\n",
        "        mutated_gates[index_gate] = new_gate\n",
        "\n",
        "        if random.random() < 0.5:\n",
        "            additional_index_gate = randrange(0, len(mutated_gates))\n",
        "            additional_new_gate = random.choice(self.gates_pool)\n",
        "\n",
        "            while additional_new_gate == mutated_gates[additional_index_gate] or additional_new_gate in mutated_gates:\n",
        "                additional_new_gate = random.choice(self.gates_pool)\n",
        "\n",
        "            mutated_gates[additional_index_gate] = additional_new_gate\n",
        "\n",
        "        return Individual(self.flights, mutated_gates, self.flights_pool, self.gates_pool)\n",
        "\n"
      ]
    },
    {
      "cell_type": "markdown",
      "metadata": {
        "id": "c8x_4uA5i9XT"
      },
      "source": [
        "### Clase <b>Gate</b>\n",
        "\n",
        "Esta es una clase abstracta para definir los lugares donde los vuelos serán asignados. Se debe hacer subclases con el fin de diferenciar los tipos de lugar donde un vuelo puede ser asignado."
      ]
    },
    {
      "cell_type": "code",
      "execution_count": 5,
      "metadata": {
        "id": "rycIj2j6i_PZ"
      },
      "outputs": [],
      "source": [
        "class Gate(object):\n",
        "    def __init__(self, identifier, x, y, z):\n",
        "        self.identifier = identifier   # identificador del Gate\n",
        "        self.distance = x              # en el caso de Sleeve esto almacena la longitud de manga. En el caso de zonas es la distancia a una puerta del aeropuerto\n",
        "        self.potential_of_speed = y    # en el caso de Sleeve esto almacena la velocidad de pasajeros en manga. En el caso de zona almacena la velocidad del bus\n",
        "        self.number_of_persons_every_10m = z   # en el caso de Sleeve esto almacena el numero de personas cada 10 metros. En el cazo de zona es la capacidad del bus\n",
        "\n",
        "    def __hash__(self):\n",
        "        return self.identifier"
      ]
    },
    {
      "cell_type": "markdown",
      "metadata": {
        "id": "fbHPYQ4qj6fb"
      },
      "source": [
        "### Clase <b>Sleeve</b>\n",
        "\n",
        "Esta clase implementa concretamente el Gate tipo Sleeve (Manga). En este tipo de gate, los pasajeros deben realizar un recorrido a pie hasta abandonar totalmente el Gate. Se tiene en cuenta la longitud de la manga, la velocidad de los pasajeros y la cantidad de personas que pueden estar cada 10m (este valor es variable porque ya refleja el ancho de la manga, puesto que una manga más ancha permite una mayor cantidad de pasajeros)."
      ]
    },
    {
      "cell_type": "code",
      "execution_count": 6,
      "metadata": {
        "id": "E9XCmO-3j472"
      },
      "outputs": [],
      "source": [
        "class Sleeve(Gate):\n",
        "    def __init__(self, identifier, length_of_sleeve, speed_of_passengers_on_sleeve, number_of_passengers_every_10m):\n",
        "        super().__init__(identifier, length_of_sleeve, speed_of_passengers_on_sleeve, number_of_passengers_every_10m)"
      ]
    },
    {
      "cell_type": "markdown",
      "metadata": {
        "id": "0T5fySg6lytA"
      },
      "source": [
        "### Clase <b>Zone</b>\n",
        "\n",
        "Esta clase implementa concretamente el Gate tipo Zone (zona). En este tipo de gate, los pasajeros son recogidos por un bus y son llevados hasta una puerta. Se tiene en cuenta la distancia de la zona a la puerta, la velocidad y capacidad del bus."
      ]
    },
    {
      "cell_type": "code",
      "execution_count": 7,
      "metadata": {
        "id": "yzwjyLG_l0nz"
      },
      "outputs": [],
      "source": [
        "class Zone(Gate):\n",
        "    def __init__(self, identifier, distance_zone_door, speed_bus, capacity_of_bus):\n",
        "        super().__init__(identifier, distance_zone_door, speed_bus, capacity_of_bus)"
      ]
    },
    {
      "cell_type": "markdown",
      "metadata": {
        "id": "ieZ9wq8amMgT"
      },
      "source": [
        "### Clase <b>Flight</b>\n",
        "\n",
        "Esta es una clase para definir a los vuelos a asignar. Cada vuelo posee una capacidad máxima, la cantidad de pasajeros, el tiempo de estacionamiento que le toma al vuelo, la longitud de las alas del avión, el tiempo de inspección al avión luego de aterrizar, el tiempo que demorarían en bajar las escaleras los pasajeros si el avión estuviera repleto, el momento de llegada al aeropuerto y el momento en que debería irse del aeropuerto."
      ]
    },
    {
      "cell_type": "code",
      "execution_count": 8,
      "metadata": {
        "id": "3Nt88YPkmLb7"
      },
      "outputs": [],
      "source": [
        "class Flight(object):\n",
        "    def __init__(self, identifier, maximum_capacity, number_of_passengers, parking_time, length_wings, inspection_time, landing_time_on_stairs, arriving_time, leaving_time):\n",
        "        self.identifier = identifier  # identificador de vuelo\n",
        "        self.maximum_capacity = maximum_capacity  # maxima capacidad del vuelo\n",
        "        self.number_of_passengers = number_of_passengers  # numero de pasajeros\n",
        "        self.parking_time = parking_time   # tiempo de parqueo\n",
        "        self.length_wings = length_wings   # longitud de las alas\n",
        "        self.inspection_time = inspection_time  # tiempo de inspeccion\n",
        "        self.landing_time_on_stairs = landing_time_on_stairs\n",
        "        self.arriving_time = arriving_time   # tiempo de llegada al aeropuerto\n",
        "        self.leaving_time = leaving_time   # tiempo de partida del aeropuerto\n",
        "\n",
        "    def __hash__(self):\n",
        "        return self.identifier"
      ]
    },
    {
      "cell_type": "markdown",
      "metadata": {
        "id": "tJ5cKDEOg-q4"
      },
      "source": [
        "### Funciones utilitarias para generar los Gates y Vuelos</b>\n",
        "Estas son funciones utilitarias para generar automáticamente los Gates y Vuelos"
      ]
    },
    {
      "cell_type": "code",
      "execution_count": 9,
      "metadata": {
        "id": "k8p8en78FCcq"
      },
      "outputs": [],
      "source": [
        "# Genera una lista de Gates\n",
        "def generate_list_of_gates(number_of_gates, max_length_of_sleeve=20, max_speed_of_passengers_on_sleeve=3, max_number_of_passengers_every_10m=12, max_distance_zone_door=50, max_speed_bus=15, max_capacity_of_bus=200):\n",
        "  list_of_gates = list()\n",
        "\n",
        "  for gate_identifier in range(number_of_gates):\n",
        "    gate_type = randint(0, 1)\n",
        "\n",
        "    if gate_type == 0:   # caso manga\n",
        "      distance = randint(1, max_length_of_sleeve)\n",
        "      potential_of_speed = randint(1, max_speed_of_passengers_on_sleeve)\n",
        "      number_of_persons_every_10m = randint(1, max_number_of_passengers_every_10m)\n",
        "\n",
        "      gate = Sleeve(gate_identifier, distance, potential_of_speed, number_of_persons_every_10m)\n",
        "\n",
        "    else:    # caso zone\n",
        "      distance = randint(1, max_distance_zone_door)\n",
        "      potential_of_speed = randint(1, max_speed_bus)\n",
        "      number_of_persons_every_10m = randint(1, max_capacity_of_bus)\n",
        "\n",
        "      gate = Zone(gate_identifier, distance, potential_of_speed, number_of_persons_every_10m)\n",
        "\n",
        "    list_of_gates.append(gate)\n",
        "\n",
        "  return list_of_gates\n",
        "\n",
        "# Genera una lista de Flights\n",
        "def generate_list_of_flights(number_of_flights, max_maximum_capacity=100, max_number_of_passengers_factor=0.8, max_parking_time=30, max_length_wings=25, max_inspection_time=180, max_landing_time_on_stairs=60, max_arriving_time=200, max_leaving_time=1000):\n",
        "  list_of_flights = list()\n",
        "\n",
        "  max_number_of_passengers = max_number_of_passengers_factor * max_maximum_capacity\n",
        "\n",
        "  for flight_identifier in range(number_of_flights):\n",
        "    maximum_capacity = randint(max_number_of_passengers, max_maximum_capacity)\n",
        "    number_of_passengers = randint(1, max_number_of_passengers)\n",
        "    parking_time = randint(1, max_parking_time)\n",
        "    length_wings = randint(1, max_length_wings)\n",
        "    inspection_time = randint(1, max_inspection_time)\n",
        "    landing_time_on_stairs = randint(1, max_landing_time_on_stairs)\n",
        "    arriving_time = randint(1, max_arriving_time)\n",
        "    leaving_time = randint(max_arriving_time + 1, max_leaving_time)\n",
        "\n",
        "    flight = Flight(flight_identifier, maximum_capacity, number_of_passengers, parking_time, length_wings, inspection_time, landing_time_on_stairs, arriving_time, leaving_time)\n",
        "\n",
        "    list_of_flights.append(flight)\n",
        "\n",
        "  return list_of_flights"
      ]
    },
    {
      "cell_type": "markdown",
      "metadata": {
        "id": "uHsytNf6oaXJ"
      },
      "source": [
        "### Funciones utilitarias para ordenar los Vuelos y Gates</b>\n",
        "Estas son funciones utilitarias para ordenar los Vuelos acorde a su deseabilidad y los Gates por su flujo personas"
      ]
    },
    {
      "cell_type": "code",
      "execution_count": 10,
      "metadata": {
        "id": "25baejsnob3d"
      },
      "outputs": [],
      "source": [
        "# Funcion para ordenar vuelos por su grado de deseabilidad  ( nro_pasajeros/tiempo_en_aeropuerto )\n",
        "def process_desirability(n):\n",
        "  return n.number_of_passengers / (n.leaving_time - n.arriving_time)\n",
        "\n",
        "# Funcion para ordenar Gates por su capacidad de flujo de personas\n",
        "def process_flow(n):\n",
        "  return n.number_of_persons_every_10m * n.potential_of_speed * 10 / n.distance"
      ]
    },
    {
      "cell_type": "markdown",
      "metadata": {
        "id": "Gqws5RELpMG1"
      },
      "source": [
        "### Funciones utilitarias para el Algoritmo Genético</b>\n",
        "Estas son funciones utilitarias para realizar el Algoritmo Genético que se encargue de la asignación de vuelos"
      ]
    },
    {
      "cell_type": "code",
      "execution_count": 11,
      "metadata": {
        "id": "RV7W8w-o3XvR"
      },
      "outputs": [],
      "source": [
        "# Inicialización aleatoria de la población\n",
        "def init_population(population_number, flights_to_assign, list_of_flights, list_of_gates):\n",
        "  population = []\n",
        "  for i in range(population_number):\n",
        "    flights = sample(list_of_flights, flights_to_assign)  # escoge los vuelos del individuo\n",
        "    gates = sample(list_of_gates, flights_to_assign) # escoge los gates del individuo\n",
        "\n",
        "    while len(set(gates)) != len(gates):\n",
        "            gates = sample(list_of_gates, flights_to_assign)\n",
        "\n",
        "    population.append( Individual(flights, gates, list_of_flights, list_of_gates) )\n",
        "  return population"
      ]
    },
    {
      "cell_type": "code",
      "execution_count": 12,
      "metadata": {
        "id": "RwUum01w3XvR"
      },
      "outputs": [],
      "source": [
        "# Evalua una individuo representado por sus listas:  flights, gates\n",
        "def fitness(flights, gates):\n",
        "  grace_time = 5/100\n",
        "\n",
        "  cumulative_efficiency = 0\n",
        "  for flight, gate in zip(flights, gates):\n",
        "    number_of_passengers = flight.number_of_passengers\n",
        "    if isinstance(gate, Sleeve):  # si el gate es de tipo Manga\n",
        "      disembarkation_time_of_passengers = ( (number_of_passengers * (gate.distance + flight.length_wings) / process_flow(gate)) + flight.parking_time + flight.inspection_time ) * (1 + grace_time)\n",
        "    else:  # si el gate es de tipo Zona\n",
        "      disembarkation_time_of_passengers = ( (number_of_passengers * gate.distance / process_flow(gate)) + flight.parking_time + (flight.landing_time_on_stairs * number_of_passengers / flight.maximum_capacity) + flight.inspection_time ) * (1 + grace_time)\n",
        "\n",
        "    # la eficiencia de una asignacion flight-gate es la cantidad total de pasajeros desembarcados por unidad de tiempo\n",
        "    cumulative_efficiency += number_of_passengers / disembarkation_time_of_passengers\n",
        "  return cumulative_efficiency\n"
      ]
    },
    {
      "cell_type": "code",
      "execution_count": 13,
      "metadata": {
        "id": "VrZ6x7BV3XvS"
      },
      "outputs": [],
      "source": [
        "# Evaluar la población con la función fitness\n",
        "def evaluate_population(population, fitness_fn):\n",
        "  \"\"\" Evalua una poblacion de individuos con la funcion de fitness pasada \"\"\"\n",
        "  population_size = len(population)\n",
        "  for i in range(population_size):\n",
        "    if population[i].fitness == -1:    # Evalúa sólo si el individuo no esta evaluado\n",
        "      population[i].fitness = fitness_fn(population[i].flights, population[i].gates)"
      ]
    },
    {
      "cell_type": "code",
      "execution_count": 14,
      "metadata": {
        "id": "pJA5rLyG3XvS"
      },
      "outputs": [],
      "source": [
        "# Selección de padres por el método roulette\n",
        "def select_parents_roulette(population):\n",
        "    popsize = len(population)\n",
        "\n",
        "    # Escoje el primer padre\n",
        "    sumfitness = sum([indiv.fitness for indiv in population])  # suma total del fitness de la poblacion\n",
        "    pickfitness = random.uniform(0, sumfitness)   # escoge un numero aleatorio entre 0 y sumfitness\n",
        "    cumfitness = 0     # fitness acumulado\n",
        "    for i in range(popsize):\n",
        "        cumfitness += population[i].fitness\n",
        "        if cumfitness > pickfitness:\n",
        "            iParent1 = i\n",
        "            break\n",
        "\n",
        "    # Escoje el segundo padre, desconsiderando el primer padre\n",
        "    sumfitness = sumfitness - population[iParent1].fitness # retira el fitness del padre ya escogido\n",
        "    pickfitness = random.uniform(0, sumfitness)   # escoge un numero aleatorio entre 0 y sumfitness\n",
        "    cumfitness = 0     # fitness acumulado\n",
        "    for i in range(popsize):\n",
        "        if i == iParent1: continue   # si es el primer padre\n",
        "        cumfitness += population[i].fitness\n",
        "        if cumfitness > pickfitness:\n",
        "            iParent2 = i\n",
        "            break\n",
        "    return (population[iParent1], population[iParent2])"
      ]
    },
    {
      "cell_type": "code",
      "execution_count": 15,
      "metadata": {
        "id": "qkEvFt_93XvT"
      },
      "outputs": [],
      "source": [
        "# Selección de padres por el método de torneo\n",
        "def select_parents_tournament(population, tournament_size):\n",
        "    # Escoje el primer padre\n",
        "    list_indiv=[]\n",
        "    x1 = np.random.permutation(len(population) )\n",
        "    y1= x1[0:tournament_size]\n",
        "    for i in range(tournament_size):\n",
        "        list_indiv.append(population[y1[i]].fitness)\n",
        "\n",
        "    iParent1=np.argmax(list_indiv)\n",
        "\n",
        "    # Escoje el segundo padre, desconsiderando el primer padre\n",
        "    x2 = np.delete(x1, iParent1)\n",
        "    x2 = np.random.permutation(x2)\n",
        "    list_indiv=[]\n",
        "    y2= x2[0:tournament_size]\n",
        "    for i in range(tournament_size):\n",
        "        list_indiv.append(population[y2[i]].fitness)\n",
        "    iParent2=np.argmax(list_indiv)\n",
        "\n",
        "    return (population[x1[iParent1]],population[x2[iParent2]])"
      ]
    },
    {
      "cell_type": "code",
      "execution_count": 16,
      "metadata": {
        "id": "N8LWyG3l3XvT"
      },
      "outputs": [],
      "source": [
        "# Selección de la nueva población con metodo de ranking\n",
        "def select_survivors_ranking(population, offspring_population, numsurvivors):\n",
        "    next_population = []\n",
        "    population.extend(offspring_population) # une las dos poblaciones\n",
        "    survivors = sorted(population, key=lambda x: x.fitness, reverse=True)[:numsurvivors]\n",
        "    next_population.extend(survivors)\n",
        "    return next_population"
      ]
    },
    {
      "cell_type": "markdown",
      "metadata": {
        "id": "YAmcJp4e3XvT"
      },
      "source": [
        "### Algoritmo Genético"
      ]
    },
    {
      "cell_type": "code",
      "execution_count": 17,
      "metadata": {
        "id": "K7Kw0NrW3XvT"
      },
      "outputs": [],
      "source": [
        "def genetic_algorithm(list_of_flights, list_of_gates, num_individuals, flights_to_assign, fitness_fn, n_generations,\n",
        "                      selection_fn=\"roulette\", crossover=\"onepoint\", mutation=\"position\", p_mut=0.1):\n",
        "  #seed(0)\n",
        "\n",
        "  #Inicializa una poblacion inicial de forma aleatoria\n",
        "  population = init_population(num_individuals, flights_to_assign, list_of_flights, list_of_gates)\n",
        "\n",
        "  population_size = len(population)\n",
        "  evaluate_population(population, fitness_fn)\n",
        "\n",
        "  best_ind = sorted(population, key=lambda x: x.fitness, reverse=True)[0]  # mejor individuo\n",
        "  bestfitness = [best_ind.fitness]  # guarda el fitness del mejor individuo\n",
        "  print(\"Poblacion inicial, best_fitness = {}\".format(best_ind.fitness))\n",
        "\n",
        "  for g in range(n_generations): # ciclo evolutivo\n",
        "\n",
        "    ## Selecciona parejas de individuos (mating_pool) para cruzamiento con el metodo de la ruleta\n",
        "    mating_pool = []\n",
        "    for i in range(int(population_size/2)):\n",
        "      if selection_fn == \"roulette\":\n",
        "        mating_pool.append(select_parents_roulette(population))\n",
        "      elif selection_fn == \"tournament\":\n",
        "        mating_pool.append(select_parents_tournament(population, 3))  #torneo de tamaño 3\n",
        "      else:\n",
        "        raise NotImplementedError\n",
        "\n",
        "    ## Crea la poblacion descendencia cruzando las parejas del mating pool\n",
        "    offspring_population = []\n",
        "    for i in range(len(mating_pool)):\n",
        "      if crossover == \"onepoint\":\n",
        "        offspring_population.extend( mating_pool[i][0].crossover_onepoint(mating_pool[i][1]) )\n",
        "      elif crossover == \"uniform\":\n",
        "        offspring_population.extend( mating_pool[i][0].crossover_uniform(mating_pool[i][1]) )\n",
        "      elif crossover == \"flight_gate\":\n",
        "        offspring_population.extend( mating_pool[i][0].flight_gate_crossover(mating_pool[i][1]) )\n",
        "      else:\n",
        "        raise NotImplementedError\n",
        "\n",
        "    ## Aplica el operador de mutacion con probabilidad pmut en cada hijo generado\n",
        "    for i in range(len(offspring_population)):\n",
        "      if uniform(0, 1) < p_mut:\n",
        "        if mutation == \"position\":\n",
        "          offspring_population[i] = offspring_population[i].mutate_position()\n",
        "        elif mutation == \"flight_gate\":\n",
        "          offspring_population[i] = offspring_population[i].mutate_flight_gate()\n",
        "        else:\n",
        "          raise NotImplementedError\n",
        "\n",
        "    ## Evalua la poblacion descendencia creada\n",
        "    evaluate_population(offspring_population, fitness_fn)\n",
        "\n",
        "    ## Selecciona individuos para la sgte. generación con el metodo de ranking\n",
        "    population = select_survivors_ranking(population, offspring_population, population_size) #metodo de ranking\n",
        "\n",
        "    ## Almacena la historia del fitness del mejor individuo\n",
        "    best_ind = sorted(population, key=lambda x: x.fitness, reverse=True)[0]  # mejor individuo de la poblacion actual\n",
        "    bestfitness.append(best_ind.fitness)\n",
        "\n",
        "    if (g % 10 == 0):  # muestra resultados cada 10 generaciones\n",
        "      print(\"generacion {}, (Mejor fitness = {})\".format(g, best_ind.fitness))\n",
        "\n",
        "  return best_ind, bestfitness  # devuelve el mejor individuo y la lista de mejores fitness x gen"
      ]
    },
    {
      "cell_type": "markdown",
      "metadata": {
        "id": "pc90jPukpbwN"
      },
      "source": [
        "### Funciones utilitarias para manejar la solución del Algoritmo Genético</b>\n",
        "Esta es una función utilitarias que permite mostrar la configuración usada en el Algoritmo Genético y la asignación de Vuelos a Gates encontrada en un individuo pasado (ind)"
      ]
    },
    {
      "cell_type": "code",
      "execution_count": 18,
      "metadata": {
        "id": "yb6LUKwKpXDJ"
      },
      "outputs": [],
      "source": [
        "def make_solution_report(ind, selection_fn, crossover, mutation):\n",
        "  print(\"Selection: {} - Crossover: {} - Mutation: {} - Fitness: {}\".format(selection_fn, crossover, mutation, ind.fitness), flush=True)\n",
        "  print(\" - \".join([\"Flight {} in {} {}\".format(flight.identifier, \"Zone\" if isinstance(gate, Zone) == True else \"Sleeve\", gate.identifier) for flight, gate in zip(ind.flights, ind.gates)]) + \"\\n\", flush=True)"
      ]
    },
    {
      "cell_type": "markdown",
      "metadata": {
        "id": "qYjVdTfeg-q6"
      },
      "source": [
        "## <b>Probando el Algoritmo Genético</b>"
      ]
    },
    {
      "cell_type": "markdown",
      "metadata": {
        "id": "1m0pxINHqQ2m"
      },
      "source": [
        "### <b>Generación de Gates y Vuelos</b>\n",
        "\n",
        "Genera los Gates y Vuelos para que el Algoritmo Genético  realize la asignacion. Asegura que el numero de vuelos a asignar (**flights_to_assign**) no sea mayor a la cantidad de puertas"
      ]
    },
    {
      "cell_type": "code",
      "execution_count": 19,
      "metadata": {
        "id": "DaqP5VHngUVg"
      },
      "outputs": [],
      "source": [
        "seed(0)\n",
        "\n",
        "number_of_gates = 7\n",
        "number_of_flights = 30\n",
        "\n",
        "# general los vuelos y gates\n",
        "list_of_gates = generate_list_of_gates(number_of_gates)\n",
        "list_of_flights = generate_list_of_flights(number_of_flights)\n",
        "\n",
        "# obtiene el numero de vuelos que el algoritmo genetico puede asignar (no puede ser mayor al numero de gates disponibles)\n",
        "flights_to_assign = number_of_flights if number_of_flights <= number_of_gates\telse number_of_gates\n",
        "\n",
        "# ordena los vuelos por su deseabilidad y los gates por su capacidad de flujo de personas\n",
        "list_of_flights = sorted(list_of_flights, key=process_desirability, reverse=True)\n",
        "list_of_gates = sorted(list_of_gates, key=process_flow, reverse=True)"
      ]
    },
    {
      "cell_type": "markdown",
      "metadata": {
        "id": "PmmLPnvYrP6v"
      },
      "source": [
        "### <b>Experimentación con el Algoritmo Genético</b>"
      ]
    },
    {
      "cell_type": "code",
      "execution_count": 20,
      "metadata": {
        "colab": {
          "base_uri": "https://localhost:8080/",
          "height": 596
        },
        "id": "CnfOnMijrP6x",
        "outputId": "72e57abe-c235-4683-fcbd-8ed91d0d5aed"
      },
      "outputs": [
        {
          "output_type": "stream",
          "name": "stdout",
          "text": [
            "Poblacion inicial, best_fitness = 2.660462008814212\n",
            "generacion 0, (Mejor fitness = 2.660462008814212)\n",
            "generacion 10, (Mejor fitness = 3.676333152640053)\n",
            "generacion 20, (Mejor fitness = 3.7147081440609537)\n",
            "generacion 30, (Mejor fitness = 3.7147081440609537)\n",
            "generacion 40, (Mejor fitness = 3.7147081440609537)\n"
          ]
        },
        {
          "output_type": "display_data",
          "data": {
            "text/plain": [
              "<Figure size 640x480 with 1 Axes>"
            ],
            "image/png": "[encoded data removed]"
          },
          "metadata": {}
        },
        {
          "output_type": "stream",
          "name": "stdout",
          "text": [
            "Selection: roulette - Crossover: uniform - Mutation: position - Fitness: 3.7147081440609537\n",
            "Flight 1 in Zone 2 - Flight 3 in Zone 2 - Flight 23 in Zone 2 - Flight 15 in Zone 2 - Flight 27 in Sleeve 4 - Flight 14 in Sleeve 4 - Flight 9 in Sleeve 4\n",
            "\n"
          ]
        }
      ],
      "source": [
        "num_individuals = 50\n",
        "\n",
        "fitness_fn = fitness\n",
        "n_generations = 50\n",
        "\n",
        "best_fitness = 0\n",
        "\n",
        "selection_fn = \"roulette\"\n",
        "crossover = \"uniform\"\n",
        "mutation = \"position\"\n",
        "p_mut = 0.2\n",
        "\n",
        "# Realiza la asignacion con el algoritmo genetico\n",
        "best_ind, bestfitness = genetic_algorithm(list_of_flights, list_of_gates, num_individuals, flights_to_assign, fitness_fn, n_generations, selection_fn, crossover, mutation, p_mut)\n",
        "\n",
        "# muestra la evolucion del mejor fitness\n",
        "plt.plot(bestfitness)\n",
        "plt.show()\n",
        "\n",
        "# imprime la mejor solucion\n",
        "make_solution_report(best_ind, selection_fn, crossover, mutation)"
      ]
    },
    {
      "cell_type": "markdown",
      "source": [
        "## Taller"
      ],
      "metadata": {
        "id": "1KaG3GTURZuF"
      }
    },
    {
      "cell_type": "markdown",
      "source": [
        "###Sin mutación"
      ],
      "metadata": {
        "id": "Fj3j7CVumcn8"
      }
    },
    {
      "cell_type": "code",
      "source": [
        "number_of_flights = 30\n",
        "number_of_gates = 10\n",
        "\n",
        "list_of_gates = generate_list_of_gates(number_of_gates)\n",
        "list_of_flights = generate_list_of_flights(number_of_flights)"
      ],
      "metadata": {
        "id": "myxKQfpgRoPY"
      },
      "execution_count": 21,
      "outputs": []
    },
    {
      "cell_type": "code",
      "source": [
        "p_mut = 0  # Sin mutación\n",
        "\n",
        "all_fitness = []\n",
        "\n",
        "colors = plt.cm.viridis(np.linspace(0, 1, 10))\n",
        "\n",
        "for i in range(10):\n",
        "    best_ind, best_fitness = genetic_algorithm(\n",
        "        list_of_flights, list_of_gates, num_individuals, flights_to_assign,\n",
        "        fitness_fn, n_generations, selection_fn, \"flight_gate\", None, p_mut\n",
        "    )\n",
        "\n",
        "    make_solution_report(best_ind, selection_fn, \"flight_gate\", \"No Mutation\")\n",
        "\n",
        "    all_fitness.append(best_fitness)\n",
        "    plt.plot(best_fitness, color=colors[i], label=f'Ejecución {i+1}')\n",
        "\n",
        "plt.title('Evolución del Mejor Fitness a lo largo de las Generaciones')\n",
        "plt.xlabel('Generaciones')\n",
        "plt.ylabel('Fitness')\n",
        "\n",
        "plt.legend(loc='lower right', bbox_to_anchor=(1.25, 0.5))\n",
        "\n",
        "plt.show()"
      ],
      "metadata": {
        "id": "QfAva6ucRoV-",
        "colab": {
          "base_uri": "https://localhost:8080/",
          "height": 1000
        },
        "outputId": "c890c299-f7a9-465f-fd32-ad5667164da9"
      },
      "execution_count": 22,
      "outputs": [
        {
          "output_type": "stream",
          "name": "stdout",
          "text": [
            "Poblacion inicial, best_fitness = 3.5147583539063865\n",
            "generacion 0, (Mejor fitness = 3.5147583539063865)\n",
            "generacion 10, (Mejor fitness = 4.962716482708619)\n",
            "generacion 20, (Mejor fitness = 4.962716482708619)\n",
            "generacion 30, (Mejor fitness = 4.962716482708619)\n",
            "generacion 40, (Mejor fitness = 4.962716482708619)\n",
            "Selection: roulette - Crossover: flight_gate - Mutation: No Mutation - Fitness: 4.962716482708619\n",
            "Flight 5 in Zone 9 - Flight 2 in Zone 0 - Flight 13 in Sleeve 2 - Flight 23 in Zone 3 - Flight 0 in Zone 7 - Flight 10 in Zone 1 - Flight 7 in Sleeve 6\n",
            "\n",
            "Poblacion inicial, best_fitness = 3.482652606420446\n",
            "generacion 0, (Mejor fitness = 3.482652606420446)\n",
            "generacion 10, (Mejor fitness = 4.690486403669126)\n",
            "generacion 20, (Mejor fitness = 4.690486403669126)\n",
            "generacion 30, (Mejor fitness = 4.690486403669126)\n",
            "generacion 40, (Mejor fitness = 4.690486403669126)\n",
            "Selection: roulette - Crossover: flight_gate - Mutation: No Mutation - Fitness: 4.690486403669126\n",
            "Flight 26 in Zone 0 - Flight 2 in Zone 3 - Flight 4 in Zone 9 - Flight 18 in Sleeve 2 - Flight 23 in Zone 7 - Flight 25 in Sleeve 4 - Flight 17 in Zone 1\n",
            "\n",
            "Poblacion inicial, best_fitness = 3.626454415842262\n",
            "generacion 0, (Mejor fitness = 3.6610486741943133)\n",
            "generacion 10, (Mejor fitness = 4.726015485805521)\n",
            "generacion 20, (Mejor fitness = 4.822335252074395)\n",
            "generacion 30, (Mejor fitness = 4.822335252074395)\n",
            "generacion 40, (Mejor fitness = 4.822335252074395)\n",
            "Selection: roulette - Crossover: flight_gate - Mutation: No Mutation - Fitness: 4.822335252074395\n",
            "Flight 8 in Sleeve 6 - Flight 17 in Zone 9 - Flight 14 in Zone 1 - Flight 0 in Zone 3 - Flight 20 in Zone 0 - Flight 23 in Zone 7 - Flight 25 in Sleeve 4\n",
            "\n",
            "Poblacion inicial, best_fitness = 4.130396154349824\n",
            "generacion 0, (Mejor fitness = 4.281874393235969)\n",
            "generacion 10, (Mejor fitness = 5.050650458269692)\n",
            "generacion 20, (Mejor fitness = 5.050650458269692)\n",
            "generacion 30, (Mejor fitness = 5.050650458269692)\n",
            "generacion 40, (Mejor fitness = 5.050650458269692)\n",
            "Selection: roulette - Crossover: flight_gate - Mutation: No Mutation - Fitness: 5.050650458269692\n",
            "Flight 23 in Zone 1 - Flight 12 in Sleeve 5 - Flight 14 in Zone 7 - Flight 0 in Zone 9 - Flight 20 in Zone 3 - Flight 10 in Sleeve 4 - Flight 27 in Zone 0\n",
            "\n",
            "Poblacion inicial, best_fitness = 3.7950100969309983\n",
            "generacion 0, (Mejor fitness = 3.974346193578945)\n",
            "generacion 10, (Mejor fitness = 4.482332172286185)\n",
            "generacion 20, (Mejor fitness = 4.482332172286185)\n",
            "generacion 30, (Mejor fitness = 4.482332172286185)\n",
            "generacion 40, (Mejor fitness = 4.482332172286185)\n",
            "Selection: roulette - Crossover: flight_gate - Mutation: No Mutation - Fitness: 4.482332172286185\n",
            "Flight 4 in Zone 7 - Flight 23 in Zone 9 - Flight 9 in Sleeve 8 - Flight 20 in Zone 1 - Flight 19 in Zone 0 - Flight 27 in Sleeve 2 - Flight 2 in Zone 3\n",
            "\n",
            "Poblacion inicial, best_fitness = 3.4302976691570812\n",
            "generacion 0, (Mejor fitness = 3.7410905544895527)\n",
            "generacion 10, (Mejor fitness = 4.372808685802242)\n",
            "generacion 20, (Mejor fitness = 4.372808685802242)\n",
            "generacion 30, (Mejor fitness = 4.372808685802242)\n",
            "generacion 40, (Mejor fitness = 4.372808685802242)\n",
            "Selection: roulette - Crossover: flight_gate - Mutation: No Mutation - Fitness: 4.372808685802242\n",
            "Flight 14 in Zone 1 - Flight 16 in Zone 0 - Flight 23 in Zone 3 - Flight 29 in Zone 9 - Flight 0 in Zone 7 - Flight 22 in Sleeve 4 - Flight 10 in Sleeve 2\n",
            "\n",
            "Poblacion inicial, best_fitness = 4.053786853122231\n",
            "generacion 0, (Mejor fitness = 4.0549936655359495)\n",
            "generacion 10, (Mejor fitness = 4.317327527610946)\n",
            "generacion 20, (Mejor fitness = 4.317327527610946)\n",
            "generacion 30, (Mejor fitness = 4.317327527610946)\n",
            "generacion 40, (Mejor fitness = 4.317327527610946)\n",
            "Selection: roulette - Crossover: flight_gate - Mutation: No Mutation - Fitness: 4.317327527610946\n",
            "Flight 21 in Sleeve 4 - Flight 2 in Zone 1 - Flight 25 in Zone 9 - Flight 6 in Zone 0 - Flight 0 in Zone 3 - Flight 22 in Sleeve 2 - Flight 4 in Zone 7\n",
            "\n",
            "Poblacion inicial, best_fitness = 3.249664098437936\n",
            "generacion 0, (Mejor fitness = 3.4080163713743756)\n",
            "generacion 10, (Mejor fitness = 4.549285179842599)\n",
            "generacion 20, (Mejor fitness = 4.72924368970917)\n",
            "generacion 30, (Mejor fitness = 4.72924368970917)\n",
            "generacion 40, (Mejor fitness = 4.72924368970917)\n",
            "Selection: roulette - Crossover: flight_gate - Mutation: No Mutation - Fitness: 4.72924368970917\n",
            "Flight 20 in Zone 9 - Flight 2 in Zone 7 - Flight 27 in Zone 0 - Flight 23 in Zone 3 - Flight 14 in Zone 1 - Flight 8 in Sleeve 2 - Flight 1 in Sleeve 4\n",
            "\n",
            "Poblacion inicial, best_fitness = 4.233183801254064\n",
            "generacion 0, (Mejor fitness = 4.233183801254064)\n",
            "generacion 10, (Mejor fitness = 4.5470991162644605)\n",
            "generacion 20, (Mejor fitness = 4.5470991162644605)\n",
            "generacion 30, (Mejor fitness = 4.5470991162644605)\n",
            "generacion 40, (Mejor fitness = 4.5470991162644605)\n",
            "Selection: roulette - Crossover: flight_gate - Mutation: No Mutation - Fitness: 4.5470991162644605\n",
            "Flight 23 in Zone 1 - Flight 5 in Zone 7 - Flight 0 in Zone 3 - Flight 20 in Zone 0 - Flight 8 in Sleeve 4 - Flight 17 in Zone 9 - Flight 12 in Sleeve 6\n",
            "\n",
            "Poblacion inicial, best_fitness = 3.2719887704272685\n",
            "generacion 0, (Mejor fitness = 3.5071962215070593)\n",
            "generacion 10, (Mejor fitness = 5.052195545011192)\n",
            "generacion 20, (Mejor fitness = 5.052195545011192)\n",
            "generacion 30, (Mejor fitness = 5.052195545011192)\n",
            "generacion 40, (Mejor fitness = 5.052195545011192)\n",
            "Selection: roulette - Crossover: flight_gate - Mutation: No Mutation - Fitness: 5.052195545011192\n",
            "Flight 20 in Sleeve 4 - Flight 26 in Zone 7 - Flight 14 in Zone 9 - Flight 7 in Sleeve 2 - Flight 0 in Zone 3 - Flight 23 in Zone 1 - Flight 28 in Zone 0\n",
            "\n"
          ]
        },
        {
          "output_type": "display_data",
          "data": {
            "text/plain": [
              "<Figure size 640x480 with 1 Axes>"
            ],
            "image/png": "[encoded data removed]"
          },
          "metadata": {}
        }
      ]
    },
    {
      "cell_type": "markdown",
      "source": [
        "###Con mutación"
      ],
      "metadata": {
        "id": "Yg36HpAQmi-I"
      }
    },
    {
      "cell_type": "code",
      "source": [
        "mutation_rates = [0.3, 0.5, 1]\n",
        "colors = ['blue', 'green', 'red']\n",
        "\n",
        "for mutation_rate, color in zip(mutation_rates, colors):\n",
        "    best_overall_fitness = []\n",
        "\n",
        "    for i in range(10):\n",
        "        best_ind, best_fitness = genetic_algorithm(\n",
        "            list_of_flights, list_of_gates, num_individuals, flights_to_assign,\n",
        "            fitness_fn, n_generations, selection_fn, \"flight_gate\", \"flight_gate\", mutation_rate\n",
        "        )\n",
        "        best_overall_fitness.append(max(best_fitness))\n",
        "        make_solution_report(best_ind, selection_fn, \"flight_gate\", f\"Mutation Rate {mutation_rate}\")\n",
        "\n",
        "    plt.plot(best_fitness, color=color, label=f'Mutación {mutation_rate}')\n",
        "\n",
        "plt.title('Mejor Fitness para diferentes tasas de mutación')\n",
        "plt.xlabel('Generaciones')\n",
        "plt.ylabel('Mejor Fitness')\n",
        "\n",
        "plt.legend(loc='lower right', bbox_to_anchor=(1.25, 0.5))\n",
        "\n",
        "plt.show()"
      ],
      "metadata": {
        "id": "IoPwIONARxY0",
        "colab": {
          "base_uri": "https://localhost:8080/",
          "height": 1000
        },
        "outputId": "d4075569-3270-445c-8f77-dd49123dfddf"
      },
      "execution_count": 23,
      "outputs": [
        {
          "output_type": "stream",
          "name": "stdout",
          "text": [
            "Poblacion inicial, best_fitness = 3.9048526510349753\n",
            "generacion 0, (Mejor fitness = 4.320157812535852)\n",
            "generacion 10, (Mejor fitness = 4.992956552075932)\n",
            "generacion 20, (Mejor fitness = 5.05177808170307)\n",
            "generacion 30, (Mejor fitness = 5.073861038141955)\n",
            "generacion 40, (Mejor fitness = 5.073861038141955)\n",
            "Selection: roulette - Crossover: flight_gate - Mutation: Mutation Rate 0.3 - Fitness: 5.073861038141955\n",
            "Flight 2 in Zone 7 - Flight 23 in Zone 7 - Flight 26 in Zone 7 - Flight 27 in Zone 7 - Flight 18 in Zone 7 - Flight 4 in Zone 7 - Flight 1 in Zone 7\n",
            "\n",
            "Poblacion inicial, best_fitness = 3.440776699713542\n",
            "generacion 0, (Mejor fitness = 4.052972145467304)\n",
            "generacion 10, (Mejor fitness = 4.869194144518962)\n",
            "generacion 20, (Mejor fitness = 4.903736139925827)\n",
            "generacion 30, (Mejor fitness = 4.903736139925827)\n",
            "generacion 40, (Mejor fitness = 4.903736139925827)\n",
            "Selection: roulette - Crossover: flight_gate - Mutation: Mutation Rate 0.3 - Fitness: 4.903736139925827\n",
            "Flight 21 in Zone 7 - Flight 7 in Zone 7 - Flight 5 in Zone 7 - Flight 10 in Zone 7 - Flight 0 in Zone 7 - Flight 20 in Zone 7 - Flight 4 in Zone 7\n",
            "\n",
            "Poblacion inicial, best_fitness = 3.4955381549593696\n",
            "generacion 0, (Mejor fitness = 3.4955381549593696)\n",
            "generacion 10, (Mejor fitness = 4.94651824548295)\n",
            "generacion 20, (Mejor fitness = 5.028871431641402)\n",
            "generacion 30, (Mejor fitness = 5.035378068676177)\n",
            "generacion 40, (Mejor fitness = 5.049712252862357)\n",
            "Selection: roulette - Crossover: flight_gate - Mutation: Mutation Rate 0.3 - Fitness: 5.050642751599272\n",
            "Flight 4 in Zone 7 - Flight 16 in Zone 7 - Flight 23 in Zone 7 - Flight 21 in Zone 7 - Flight 2 in Zone 7 - Flight 6 in Zone 7 - Flight 20 in Zone 7\n",
            "\n",
            "Poblacion inicial, best_fitness = 3.5407641312057647\n",
            "generacion 0, (Mejor fitness = 3.7256714570704337)\n",
            "generacion 10, (Mejor fitness = 4.4173573704308815)\n",
            "generacion 20, (Mejor fitness = 4.465294143806164)\n",
            "generacion 30, (Mejor fitness = 4.468026747953871)\n",
            "generacion 40, (Mejor fitness = 4.468026747953871)\n",
            "Selection: roulette - Crossover: flight_gate - Mutation: Mutation Rate 0.3 - Fitness: 4.468026747953871\n",
            "Flight 7 in Zone 7 - Flight 15 in Zone 7 - Flight 23 in Zone 7 - Flight 20 in Zone 7 - Flight 2 in Zone 7 - Flight 6 in Zone 7 - Flight 28 in Zone 7\n",
            "\n",
            "Poblacion inicial, best_fitness = 2.9791077506902726\n",
            "generacion 0, (Mejor fitness = 3.3470975758268957)\n",
            "generacion 10, (Mejor fitness = 5.148133506403313)\n",
            "generacion 20, (Mejor fitness = 5.185221295446889)\n",
            "generacion 30, (Mejor fitness = 5.185691545060915)\n",
            "generacion 40, (Mejor fitness = 5.185691545060915)\n",
            "Selection: roulette - Crossover: flight_gate - Mutation: Mutation Rate 0.3 - Fitness: 5.185691545060915\n",
            "Flight 1 in Zone 7 - Flight 29 in Zone 7 - Flight 2 in Zone 7 - Flight 0 in Zone 7 - Flight 14 in Zone 7 - Flight 23 in Zone 7 - Flight 13 in Zone 7\n",
            "\n",
            "Poblacion inicial, best_fitness = 4.092255829634887\n",
            "generacion 0, (Mejor fitness = 4.274135198144188)\n",
            "generacion 10, (Mejor fitness = 5.526134202503906)\n",
            "generacion 20, (Mejor fitness = 5.570383830168147)\n",
            "generacion 30, (Mejor fitness = 5.578074974515964)\n",
            "generacion 40, (Mejor fitness = 5.578401207765581)\n",
            "Selection: roulette - Crossover: flight_gate - Mutation: Mutation Rate 0.3 - Fitness: 5.578401207765581\n",
            "Flight 23 in Zone 7 - Flight 11 in Zone 7 - Flight 14 in Zone 7 - Flight 2 in Zone 7 - Flight 28 in Zone 7 - Flight 4 in Zone 7 - Flight 0 in Zone 7\n",
            "\n",
            "Poblacion inicial, best_fitness = 3.335338774954086\n",
            "generacion 0, (Mejor fitness = 3.3592117644281645)\n",
            "generacion 10, (Mejor fitness = 5.047928565665981)\n",
            "generacion 20, (Mejor fitness = 5.060662107789967)\n",
            "generacion 30, (Mejor fitness = 5.060680084030886)\n",
            "generacion 40, (Mejor fitness = 5.060680084030886)\n",
            "Selection: roulette - Crossover: flight_gate - Mutation: Mutation Rate 0.3 - Fitness: 5.060680084030886\n",
            "Flight 23 in Zone 7 - Flight 2 in Zone 7 - Flight 0 in Zone 7 - Flight 1 in Zone 7 - Flight 6 in Zone 7 - Flight 24 in Zone 7 - Flight 5 in Zone 7\n",
            "\n",
            "Poblacion inicial, best_fitness = 4.093059795906508\n",
            "generacion 0, (Mejor fitness = 4.093059795906508)\n",
            "generacion 10, (Mejor fitness = 4.4530491470020985)\n",
            "generacion 20, (Mejor fitness = 4.5078615922566625)\n",
            "generacion 30, (Mejor fitness = 4.5108711025066786)\n",
            "generacion 40, (Mejor fitness = 4.5108711025066786)\n",
            "Selection: roulette - Crossover: flight_gate - Mutation: Mutation Rate 0.3 - Fitness: 4.511166283436416\n",
            "Flight 4 in Zone 7 - Flight 2 in Zone 7 - Flight 13 in Zone 7 - Flight 27 in Zone 7 - Flight 23 in Zone 7 - Flight 18 in Zone 7 - Flight 22 in Zone 7\n",
            "\n",
            "Poblacion inicial, best_fitness = 3.5449862359596915\n",
            "generacion 0, (Mejor fitness = 3.5449862359596915)\n",
            "generacion 10, (Mejor fitness = 5.262671486387054)\n",
            "generacion 20, (Mejor fitness = 5.346987905746218)\n",
            "generacion 30, (Mejor fitness = 5.3511597556958055)\n",
            "generacion 40, (Mejor fitness = 5.3511597556958055)\n",
            "Selection: roulette - Crossover: flight_gate - Mutation: Mutation Rate 0.3 - Fitness: 5.3511597556958055\n",
            "Flight 4 in Zone 7 - Flight 23 in Zone 7 - Flight 3 in Zone 7 - Flight 14 in Zone 7 - Flight 20 in Zone 7 - Flight 1 in Zone 7 - Flight 26 in Zone 7\n",
            "\n",
            "Poblacion inicial, best_fitness = 3.569341636558017\n",
            "generacion 0, (Mejor fitness = 3.569341636558017)\n",
            "generacion 10, (Mejor fitness = 4.67704366747952)\n",
            "generacion 20, (Mejor fitness = 4.685935469443075)\n",
            "generacion 30, (Mejor fitness = 4.690760680475468)\n",
            "generacion 40, (Mejor fitness = 4.693385668261192)\n",
            "Selection: roulette - Crossover: flight_gate - Mutation: Mutation Rate 0.3 - Fitness: 4.6939889383003965\n",
            "Flight 3 in Zone 7 - Flight 4 in Zone 7 - Flight 24 in Zone 7 - Flight 20 in Zone 7 - Flight 10 in Zone 7 - Flight 23 in Zone 7 - Flight 21 in Zone 7\n",
            "\n",
            "Poblacion inicial, best_fitness = 3.5952950456046544\n",
            "generacion 0, (Mejor fitness = 3.66588184743332)\n",
            "generacion 10, (Mejor fitness = 4.405884924280042)\n",
            "generacion 20, (Mejor fitness = 4.424602756572683)\n",
            "generacion 30, (Mejor fitness = 4.4282580068177735)\n",
            "generacion 40, (Mejor fitness = 4.429493640354378)\n",
            "Selection: roulette - Crossover: flight_gate - Mutation: Mutation Rate 0.5 - Fitness: 4.429493640354378\n",
            "Flight 0 in Zone 7 - Flight 26 in Zone 7 - Flight 3 in Zone 7 - Flight 25 in Zone 7 - Flight 5 in Zone 7 - Flight 14 in Zone 7 - Flight 10 in Zone 7\n",
            "\n",
            "Poblacion inicial, best_fitness = 4.1234806471726\n",
            "generacion 0, (Mejor fitness = 4.1234806471726)\n",
            "generacion 10, (Mejor fitness = 4.708240124287446)\n",
            "generacion 20, (Mejor fitness = 4.74882586915752)\n",
            "generacion 30, (Mejor fitness = 4.749438734074986)\n",
            "generacion 40, (Mejor fitness = 4.749438734074986)\n",
            "Selection: roulette - Crossover: flight_gate - Mutation: Mutation Rate 0.5 - Fitness: 4.749438734074986\n",
            "Flight 3 in Zone 7 - Flight 23 in Zone 7 - Flight 0 in Zone 7 - Flight 9 in Zone 7 - Flight 10 in Zone 7 - Flight 17 in Zone 7 - Flight 8 in Zone 7\n",
            "\n",
            "Poblacion inicial, best_fitness = 3.913440789405517\n",
            "generacion 0, (Mejor fitness = 4.219738359334723)\n",
            "generacion 10, (Mejor fitness = 4.877570657531391)\n",
            "generacion 20, (Mejor fitness = 4.924950358765391)\n",
            "generacion 30, (Mejor fitness = 4.934244917121807)\n",
            "generacion 40, (Mejor fitness = 4.934244917121807)\n",
            "Selection: roulette - Crossover: flight_gate - Mutation: Mutation Rate 0.5 - Fitness: 4.934244917121807\n",
            "Flight 4 in Zone 7 - Flight 8 in Zone 7 - Flight 6 in Zone 7 - Flight 11 in Zone 7 - Flight 0 in Zone 7 - Flight 25 in Zone 7 - Flight 23 in Zone 7\n",
            "\n",
            "Poblacion inicial, best_fitness = 3.3404705679882096\n",
            "generacion 0, (Mejor fitness = 4.002609273531173)\n",
            "generacion 10, (Mejor fitness = 4.489672830548611)\n",
            "generacion 20, (Mejor fitness = 4.490908464085216)\n",
            "generacion 30, (Mejor fitness = 4.490908464085216)\n",
            "generacion 40, (Mejor fitness = 4.490908464085216)\n",
            "Selection: roulette - Crossover: flight_gate - Mutation: Mutation Rate 0.5 - Fitness: 4.490908464085216\n",
            "Flight 2 in Zone 7 - Flight 17 in Zone 7 - Flight 26 in Zone 7 - Flight 5 in Zone 7 - Flight 20 in Zone 7 - Flight 10 in Zone 7 - Flight 25 in Zone 7\n",
            "\n",
            "Poblacion inicial, best_fitness = 4.364974501947432\n",
            "generacion 0, (Mejor fitness = 4.761784828778296)\n",
            "generacion 10, (Mejor fitness = 5.943707424345865)\n",
            "generacion 20, (Mejor fitness = 6.02412705574492)\n",
            "generacion 30, (Mejor fitness = 6.030885348699547)\n",
            "generacion 40, (Mejor fitness = 6.036026666955822)\n",
            "Selection: roulette - Crossover: flight_gate - Mutation: Mutation Rate 0.5 - Fitness: 6.036026666955822\n",
            "Flight 0 in Zone 7 - Flight 4 in Zone 7 - Flight 17 in Zone 7 - Flight 26 in Zone 7 - Flight 6 in Zone 7 - Flight 20 in Zone 7 - Flight 23 in Zone 7\n",
            "\n",
            "Poblacion inicial, best_fitness = 3.9253906402152587\n",
            "generacion 0, (Mejor fitness = 4.436560286457647)\n",
            "generacion 10, (Mejor fitness = 4.706342830519323)\n",
            "generacion 20, (Mejor fitness = 4.750095739227704)\n",
            "generacion 30, (Mejor fitness = 4.751374478581103)\n",
            "generacion 40, (Mejor fitness = 4.751977748620307)\n",
            "Selection: roulette - Crossover: flight_gate - Mutation: Mutation Rate 0.5 - Fitness: 4.751977748620307\n",
            "Flight 27 in Zone 7 - Flight 3 in Zone 7 - Flight 0 in Zone 7 - Flight 23 in Zone 7 - Flight 15 in Zone 7 - Flight 28 in Zone 7 - Flight 20 in Zone 7\n",
            "\n",
            "Poblacion inicial, best_fitness = 3.4636519118679674\n",
            "generacion 0, (Mejor fitness = 4.428945941945894)\n",
            "generacion 10, (Mejor fitness = 4.959813319354217)\n",
            "generacion 20, (Mejor fitness = 5.0054743572697245)\n",
            "generacion 30, (Mejor fitness = 5.005593768386822)\n",
            "generacion 40, (Mejor fitness = 5.005593768386822)\n",
            "Selection: roulette - Crossover: flight_gate - Mutation: Mutation Rate 0.5 - Fitness: 5.005593768386822\n",
            "Flight 16 in Zone 7 - Flight 8 in Zone 7 - Flight 6 in Zone 7 - Flight 10 in Zone 7 - Flight 23 in Zone 7 - Flight 20 in Zone 7 - Flight 0 in Zone 7\n",
            "\n",
            "Poblacion inicial, best_fitness = 4.3481965357628205\n",
            "generacion 0, (Mejor fitness = 4.3481965357628205)\n",
            "generacion 10, (Mejor fitness = 4.671513058124962)\n",
            "generacion 20, (Mejor fitness = 4.718933556513692)\n",
            "generacion 30, (Mejor fitness = 4.724350382283284)\n",
            "generacion 40, (Mejor fitness = 4.724376057543198)\n",
            "Selection: roulette - Crossover: flight_gate - Mutation: Mutation Rate 0.5 - Fitness: 4.724376057543198\n",
            "Flight 0 in Zone 7 - Flight 14 in Zone 7 - Flight 10 in Zone 7 - Flight 4 in Zone 7 - Flight 12 in Zone 7 - Flight 27 in Zone 7 - Flight 20 in Zone 7\n",
            "\n",
            "Poblacion inicial, best_fitness = 4.138665133717401\n",
            "generacion 0, (Mejor fitness = 4.138665133717401)\n",
            "generacion 10, (Mejor fitness = 5.109194294135369)\n",
            "generacion 20, (Mejor fitness = 5.1158907708110135)\n",
            "generacion 30, (Mejor fitness = 5.121441472778268)\n",
            "generacion 40, (Mejor fitness = 5.121441472778268)\n",
            "Selection: roulette - Crossover: flight_gate - Mutation: Mutation Rate 0.5 - Fitness: 5.121441472778268\n",
            "Flight 0 in Zone 7 - Flight 11 in Zone 7 - Flight 14 in Zone 7 - Flight 4 in Zone 7 - Flight 2 in Zone 7 - Flight 20 in Zone 7 - Flight 1 in Zone 7\n",
            "\n",
            "Poblacion inicial, best_fitness = 3.855080932354268\n",
            "generacion 0, (Mejor fitness = 4.2403966485933005)\n",
            "generacion 10, (Mejor fitness = 4.935145915911699)\n",
            "generacion 20, (Mejor fitness = 4.937828926142396)\n",
            "generacion 30, (Mejor fitness = 4.937828926142396)\n",
            "generacion 40, (Mejor fitness = 4.937828926142396)\n",
            "Selection: roulette - Crossover: flight_gate - Mutation: Mutation Rate 0.5 - Fitness: 4.937828926142396\n",
            "Flight 13 in Zone 7 - Flight 10 in Zone 7 - Flight 0 in Zone 7 - Flight 4 in Zone 7 - Flight 7 in Zone 7 - Flight 23 in Zone 7 - Flight 19 in Zone 7\n",
            "\n",
            "Poblacion inicial, best_fitness = 3.7703198777355227\n",
            "generacion 0, (Mejor fitness = 4.2770056090199216)\n",
            "generacion 10, (Mejor fitness = 4.982681469576276)\n",
            "generacion 20, (Mejor fitness = 5.093960127556454)\n",
            "generacion 30, (Mejor fitness = 5.100329113853647)\n",
            "generacion 40, (Mejor fitness = 5.100329113853647)\n",
            "Selection: roulette - Crossover: flight_gate - Mutation: Mutation Rate 1 - Fitness: 5.100329113853647\n",
            "Flight 25 in Zone 7 - Flight 9 in Zone 7 - Flight 4 in Zone 7 - Flight 27 in Zone 7 - Flight 2 in Zone 7 - Flight 0 in Zone 7 - Flight 20 in Zone 7\n",
            "\n",
            "Poblacion inicial, best_fitness = 3.811707270387253\n",
            "generacion 0, (Mejor fitness = 3.811707270387253)\n",
            "generacion 10, (Mejor fitness = 4.501974032005359)\n",
            "generacion 20, (Mejor fitness = 4.559367493288798)\n",
            "generacion 30, (Mejor fitness = 4.572792257562677)\n",
            "generacion 40, (Mejor fitness = 4.572792257562677)\n",
            "Selection: roulette - Crossover: flight_gate - Mutation: Mutation Rate 1 - Fitness: 4.572792257562677\n",
            "Flight 25 in Zone 7 - Flight 17 in Zone 7 - Flight 26 in Zone 7 - Flight 2 in Zone 7 - Flight 10 in Zone 7 - Flight 14 in Zone 7 - Flight 20 in Zone 7\n",
            "\n",
            "Poblacion inicial, best_fitness = 3.6542198851247893\n",
            "generacion 0, (Mejor fitness = 4.268134251440484)\n",
            "generacion 10, (Mejor fitness = 5.189446314455955)\n",
            "generacion 20, (Mejor fitness = 5.312797383173322)\n",
            "generacion 30, (Mejor fitness = 5.326317400552578)\n",
            "generacion 40, (Mejor fitness = 5.326317400552578)\n",
            "Selection: roulette - Crossover: flight_gate - Mutation: Mutation Rate 1 - Fitness: 5.326975792796948\n",
            "Flight 22 in Zone 7 - Flight 20 in Zone 7 - Flight 23 in Zone 7 - Flight 14 in Zone 7 - Flight 7 in Zone 7 - Flight 0 in Zone 7 - Flight 17 in Zone 7\n",
            "\n",
            "Poblacion inicial, best_fitness = 3.4357588540275255\n",
            "generacion 0, (Mejor fitness = 3.6657950975842115)\n",
            "generacion 10, (Mejor fitness = 4.80496699716906)\n",
            "generacion 20, (Mejor fitness = 4.832532549045135)\n",
            "generacion 30, (Mejor fitness = 4.835560212129016)\n",
            "generacion 40, (Mejor fitness = 4.8397348475614015)\n",
            "Selection: roulette - Crossover: flight_gate - Mutation: Mutation Rate 1 - Fitness: 4.8397348475614015\n",
            "Flight 26 in Zone 7 - Flight 23 in Zone 7 - Flight 20 in Zone 7 - Flight 17 in Zone 7 - Flight 27 in Zone 3 - Flight 5 in Zone 7 - Flight 1 in Zone 7\n",
            "\n",
            "Poblacion inicial, best_fitness = 3.5592937128076856\n",
            "generacion 0, (Mejor fitness = 4.081722153751938)\n",
            "generacion 10, (Mejor fitness = 4.872421610871398)\n",
            "generacion 20, (Mejor fitness = 4.938658001594886)\n",
            "generacion 30, (Mejor fitness = 4.948650418966592)\n",
            "generacion 40, (Mejor fitness = 4.948650418966592)\n",
            "Selection: roulette - Crossover: flight_gate - Mutation: Mutation Rate 1 - Fitness: 4.948650418966592\n",
            "Flight 5 in Zone 7 - Flight 0 in Zone 7 - Flight 17 in Zone 7 - Flight 23 in Zone 7 - Flight 14 in Zone 7 - Flight 1 in Zone 7 - Flight 15 in Zone 7\n",
            "\n",
            "Poblacion inicial, best_fitness = 3.702830528891234\n",
            "generacion 0, (Mejor fitness = 3.7555889816524686)\n",
            "generacion 10, (Mejor fitness = 4.520448158540276)\n",
            "generacion 20, (Mejor fitness = 4.660750308519603)\n",
            "generacion 30, (Mejor fitness = 4.6615965521870635)\n",
            "generacion 40, (Mejor fitness = 4.661851780875414)\n",
            "Selection: roulette - Crossover: flight_gate - Mutation: Mutation Rate 1 - Fitness: 4.661851780875414\n",
            "Flight 13 in Zone 7 - Flight 2 in Zone 7 - Flight 12 in Zone 7 - Flight 8 in Zone 7 - Flight 0 in Zone 7 - Flight 1 in Zone 7 - Flight 23 in Zone 7\n",
            "\n",
            "Poblacion inicial, best_fitness = 3.833479319307704\n",
            "generacion 0, (Mejor fitness = 3.833479319307704)\n",
            "generacion 10, (Mejor fitness = 5.520750844640842)\n",
            "generacion 20, (Mejor fitness = 5.54553076251203)\n",
            "generacion 30, (Mejor fitness = 5.549244164457054)\n",
            "generacion 40, (Mejor fitness = 5.552015470569533)\n",
            "Selection: roulette - Crossover: flight_gate - Mutation: Mutation Rate 1 - Fitness: 5.554130007985404\n",
            "Flight 10 in Zone 7 - Flight 23 in Zone 7 - Flight 28 in Zone 3 - Flight 25 in Zone 7 - Flight 0 in Zone 7 - Flight 14 in Zone 7 - Flight 20 in Zone 7\n",
            "\n",
            "Poblacion inicial, best_fitness = 3.3978916398278685\n",
            "generacion 0, (Mejor fitness = 3.7688904252765854)\n",
            "generacion 10, (Mejor fitness = 4.392043103332748)\n",
            "generacion 20, (Mejor fitness = 4.399757733796913)\n",
            "generacion 30, (Mejor fitness = 4.4054476214817395)\n",
            "generacion 40, (Mejor fitness = 4.40582612097482)\n",
            "Selection: roulette - Crossover: flight_gate - Mutation: Mutation Rate 1 - Fitness: 4.406050891520943\n",
            "Flight 19 in Zone 1 - Flight 20 in Zone 7 - Flight 23 in Zone 7 - Flight 29 in Zone 3 - Flight 3 in Zone 7 - Flight 2 in Zone 7 - Flight 1 in Zone 7\n",
            "\n",
            "Poblacion inicial, best_fitness = 3.7571490762614514\n",
            "generacion 0, (Mejor fitness = 4.260141960514816)\n",
            "generacion 10, (Mejor fitness = 5.082087816505151)\n",
            "generacion 20, (Mejor fitness = 5.309447846680535)\n",
            "generacion 30, (Mejor fitness = 5.317933941454473)\n",
            "generacion 40, (Mejor fitness = 5.324666125135352)\n",
            "Selection: roulette - Crossover: flight_gate - Mutation: Mutation Rate 1 - Fitness: 5.325381973237437\n",
            "Flight 7 in Zone 7 - Flight 29 in Zone 3 - Flight 14 in Zone 7 - Flight 23 in Zone 7 - Flight 0 in Zone 7 - Flight 25 in Zone 7 - Flight 4 in Zone 7\n",
            "\n",
            "Poblacion inicial, best_fitness = 3.96368165799121\n",
            "generacion 0, (Mejor fitness = 4.0166209220018985)\n",
            "generacion 10, (Mejor fitness = 5.135653055802271)\n",
            "generacion 20, (Mejor fitness = 5.146176942242302)\n",
            "generacion 30, (Mejor fitness = 5.151727644209556)\n",
            "generacion 40, (Mejor fitness = 5.155955005524557)\n",
            "Selection: roulette - Crossover: flight_gate - Mutation: Mutation Rate 1 - Fitness: 5.155955005524557\n",
            "Flight 9 in Zone 7 - Flight 29 in Zone 7 - Flight 0 in Zone 7 - Flight 5 in Zone 7 - Flight 2 in Zone 7 - Flight 7 in Zone 7 - Flight 23 in Zone 7\n",
            "\n"
          ]
        },
        {
          "output_type": "display_data",
          "data": {
            "text/plain": [
              "<Figure size 640x480 with 1 Axes>"
            ],
            "image/png": "[encoded data removed]"
          },
          "metadata": {}
        }
      ]
    },
    {
      "cell_type": "markdown",
      "source": [
        "###NSGA-II"
      ],
      "metadata": {
        "id": "7q02g6atfRzt"
      }
    },
    {
      "cell_type": "code",
      "source": [
        "class NSGAII:\n",
        "    def __init__(self, list_of_flights, list_of_gates, num_individuals, flights_to_assign, n_generations, p_mut):\n",
        "        self.list_of_flights = list_of_flights\n",
        "        self.list_of_gates = list_of_gates\n",
        "        self.num_individuals = num_individuals\n",
        "        self.flights_to_assign = flights_to_assign\n",
        "        self.n_generations = n_generations\n",
        "        self.p_mut = p_mut\n",
        "\n",
        "    def init_population(self):\n",
        "        population = []\n",
        "        for _ in range(self.num_individuals):\n",
        "            flights = random.sample(self.list_of_flights, self.flights_to_assign)\n",
        "            gates = random.sample(self.list_of_gates, self.flights_to_assign)\n",
        "            population.append(Individual(flights, gates, self.list_of_flights, self.list_of_gates))\n",
        "        return population\n",
        "\n",
        "    def evaluate_population(self, population):\n",
        "        for ind in population:\n",
        "            if ind.fitness == -1:\n",
        "                fitness_a = sum(flight.number_of_passengers for flight in ind.flights)\n",
        "                fitness_b = self.calculate_disembarkation_time(ind.flights, ind.gates)\n",
        "                ind.fitness = (fitness_a, fitness_b)\n",
        "\n",
        "\n",
        "    def calculate_disembarkation_time(self, flights, gates):\n",
        "        total_time = 0\n",
        "        for flight, gate in zip(flights, gates):\n",
        "            if isinstance(gate, Sleeve):\n",
        "                disembarkation_time = ((flight.number_of_passengers * (gate.distance + flight.length_wings) / process_flow(gate))\n",
        "                                       + flight.parking_time + flight.inspection_time)\n",
        "            else:\n",
        "                disembarkation_time = ((flight.number_of_passengers * gate.distance / process_flow(gate))\n",
        "                                       + flight.parking_time + (flight.landing_time_on_stairs * flight.number_of_passengers / flight.maximum_capacity)\n",
        "                                       + flight.inspection_time)\n",
        "            total_time += disembarkation_time\n",
        "        return total_time\n",
        "\n",
        "    def build_offspring_population(self, population):\n",
        "        offspring = []\n",
        "        for _ in range(int(len(population) / 2)):\n",
        "            parent1, parent2 = self.select_parents(population)\n",
        "            offspring.extend(parent1.flight_gate_crossover(parent2))\n",
        "        return offspring\n",
        "\n",
        "    def select_parents(self, population):\n",
        "        tournament_size = 3\n",
        "        selected = random.sample(population, tournament_size)\n",
        "        parent1 = min(selected, key=lambda x: x.fitness[1])\n",
        "        selected = random.sample(population, tournament_size)\n",
        "        parent2 = min(selected, key=lambda x: x.fitness[1])\n",
        "        return parent1, parent2\n",
        "\n",
        "    def build_next_population(self, combined_population):\n",
        "        pareto_fronts = self.non_dominated_sort(combined_population)\n",
        "        new_population = []\n",
        "        for front in pareto_fronts:\n",
        "            if len(new_population) + len(front) > self.num_individuals:\n",
        "                new_population.extend(random.sample(front, self.num_individuals - len(new_population)))\n",
        "                break\n",
        "            new_population.extend(front)\n",
        "        return new_population\n",
        "\n",
        "    def non_dominated_sort(self, population):\n",
        "        pareto_fronts = []\n",
        "        pareto_front = []\n",
        "        for ind in population:\n",
        "            ind.dominated_solutions = 0\n",
        "            ind.dominates = []\n",
        "            for other in population:\n",
        "                if self.dominates(ind, other):\n",
        "                    ind.dominates.append(other)\n",
        "                elif self.dominates(other, ind):\n",
        "                    ind.dominated_solutions += 1\n",
        "            if ind.dominated_solutions == 0:\n",
        "                pareto_front.append(ind)\n",
        "        pareto_fronts.append(pareto_front)\n",
        "\n",
        "        while pareto_front:\n",
        "            new_front = []\n",
        "            for ind in pareto_front:\n",
        "                for dominated in ind.dominates:\n",
        "                    dominated.dominated_solutions -= 1\n",
        "                    if dominated.dominated_solutions == 0:\n",
        "                        new_front.append(dominated)\n",
        "            pareto_front = new_front\n",
        "            if pareto_front:\n",
        "                pareto_fronts.append(pareto_front)\n",
        "        return pareto_fronts\n",
        "\n",
        "    def dominates(self, ind1, ind2):\n",
        "        return all(f1 <= f2 for f1, f2 in zip(ind1.fitness, ind2.fitness)) and any(f1 < f2 for f1, f2 in zip(ind1.fitness, ind2.fitness))\n",
        "\n",
        "    def get_paretofront_population(self, population):\n",
        "        \"\"\"\n",
        "        Obtiene la población de individuos que conforman la frontera de Pareto\n",
        "        a partir de la población dada.\n",
        "        \"\"\"\n",
        "        population = deepcopy(population)\n",
        "        pop_size = len(population)\n",
        "\n",
        "        pareto_front = np.ones(pop_size, dtype=bool)\n",
        "\n",
        "        for i in range(pop_size):\n",
        "            for j in range(pop_size):\n",
        "                if all(np.asarray(population[j].fitness) >= np.asarray(population[i].fitness)) and any(np.asarray(population[j].fitness) > np.asarray(population[i].fitness)):\n",
        "                    pareto_front[i] = 0\n",
        "                    break\n",
        "\n",
        "        paretofront_population = [population[i] for i in range(pop_size) if pareto_front[i] == 1]\n",
        "\n",
        "        return paretofront_population\n",
        "\n",
        "    def genetic_algorithm(self):\n",
        "        P = self.init_population()\n",
        "        self.evaluate_population(P)\n",
        "\n",
        "        for g in range(self.n_generations):\n",
        "            Q = self.build_offspring_population(P)\n",
        "            self.evaluate_population(Q)\n",
        "            P.extend(Q)\n",
        "            P = self.build_next_population(P)\n",
        "\n",
        "        return self.get_paretofront_population(P)\n"
      ],
      "metadata": {
        "id": "92Nb-yTX3YmF"
      },
      "execution_count": 33,
      "outputs": []
    },
    {
      "cell_type": "markdown",
      "source": [
        "####Pareto"
      ],
      "metadata": {
        "id": "z6TCvvdxfXLM"
      }
    },
    {
      "cell_type": "code",
      "source": [
        "flights_to_assign = min(flights_to_assign, number_of_flights, number_of_gates)\n",
        "\n",
        "nsga = NSGAII(list_of_flights, list_of_gates, num_individuals=50, flights_to_assign=flights_to_assign, n_generations=100, p_mut=0.1)\n",
        "pareto_front = nsga.genetic_algorithm()\n",
        "\n",
        "pop_size = len(pareto_front)\n",
        "num_objectives = len(pareto_front[0].fitness)\n",
        "fitnesses = np.array([ind.fitness for ind in pareto_front])\n",
        "\n",
        "x = fitnesses[:, 0]\n",
        "y = fitnesses[:, 1]\n",
        "plt.xlabel('Número de pasajeros')\n",
        "plt.ylabel('Tiempo total de desembarque')\n",
        "plt.scatter(x, y)\n",
        "plt.show()"
      ],
      "metadata": {
        "colab": {
          "base_uri": "https://localhost:8080/",
          "height": 450
        },
        "id": "p50nWtL4eMaW",
        "outputId": "95e1a7d9-a7c2-4283-c464-81bfc9c9a3da"
      },
      "execution_count": 36,
      "outputs": [
        {
          "output_type": "display_data",
          "data": {
            "text/plain": [
              "<Figure size 640x480 with 1 Axes>"
            ],
            "image/png": "[encoded data removed]"
          },
          "metadata": {}
        }
      ]
    }
  ],
  "metadata": {
    "colab": {
      "provenance": [],
      "toc_visible": true
    },
    "kernelspec": {
      "display_name": "Python 3",
      "language": "python",
      "name": "python3"
    },
    "language_info": {
      "codemirror_mode": {
        "name": "ipython",
        "version": 3
      },
      "file_extension": ".py",
      "mimetype": "text/x-python",
      "name": "python",
      "nbconvert_exporter": "python",
      "pygments_lexer": "ipython3",
      "version": "3.8.3"
    }
  },
  "nbformat": 4,
  "nbformat_minor": 0
}